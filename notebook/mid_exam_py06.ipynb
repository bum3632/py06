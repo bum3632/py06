{
  "nbformat": 4,
  "nbformat_minor": 0,
  "metadata": {
    "colab": {
      "name": "mid_exam_py06.ipynb",
      "provenance": [],
      "collapsed_sections": [],
      "authorship_tag": "ABX9TyNerCXT8EISL+peZIdLl+8d",
      "include_colab_link": true
    },
    "kernelspec": {
      "name": "python3",
      "display_name": "Python 3"
    }
  },
  "cells": [
    {
      "cell_type": "markdown",
      "metadata": {
        "id": "view-in-github",
        "colab_type": "text"
      },
      "source": [
        "<a href=\"https://colab.research.google.com/github/bum3632/py06/blob/master/notebook/mid_exam_py06.ipynb\" target=\"_parent\"><img src=\"https://colab.research.google.com/assets/colab-badge.svg\" alt=\"Open In Colab\"/></a>"
      ]
    },
    {
      "cell_type": "markdown",
      "metadata": {
        "id": "nSxguYRRqQxz",
        "colab_type": "text"
      },
      "source": [
        "## **파이썬 활용 중간고사 풀이**"
      ]
    },
    {
      "cell_type": "markdown",
      "metadata": {
        "id": "JQFTL7aH4faT",
        "colab_type": "text"
      },
      "source": [
        "### **중간고사 1부 (1번~5번)**"
      ]
    },
    {
      "cell_type": "markdown",
      "metadata": {
        "id": "FA1A74xPqcsf",
        "colab_type": "text"
      },
      "source": [
        "### 문제1.다음 식의 연산 결과는?"
      ]
    },
    {
      "cell_type": "code",
      "metadata": {
        "id": "lhbIzwGypLYE",
        "colab_type": "code",
        "outputId": "2dfd9f9a-e67f-4c0b-889d-abcfbeb97a76",
        "colab": {
          "base_uri": "https://localhost:8080/",
          "height": 34
        }
      },
      "source": [
        "a = 5\n",
        "b = 3\n",
        "a**b    \n",
        "# 답:125\n",
        "# 5**3은 5의 세제곱을 의미함.(5^3을 의미함.)"
      ],
      "execution_count": 0,
      "outputs": [
        {
          "output_type": "execute_result",
          "data": {
            "text/plain": [
              "125"
            ]
          },
          "metadata": {
            "tags": []
          },
          "execution_count": 52
        }
      ]
    },
    {
      "cell_type": "markdown",
      "metadata": {
        "id": "x9o9reUUsnmZ",
        "colab_type": "text"
      },
      "source": [
        "### 문제2.다음 문자열 a에 대하여 슬라이싱을 한 결과는? a=\"Life is too short, You need Phython!\""
      ]
    },
    {
      "cell_type": "code",
      "metadata": {
        "id": "5c1t9xxFrc-7",
        "colab_type": "code",
        "outputId": "2bc00afa-05b9-44d0-da42-c7efe26f6aff",
        "colab": {
          "base_uri": "https://localhost:8080/",
          "height": 34
        }
      },
      "source": [
        "a=\"Life is too short, You need Python!\"\n",
        "a[-16:-8]\n",
        "# 답:'You need' \n",
        "# [-16:-8]이 의미하는 것은 뒤에서 16번째의 문자부터 뒤에서 8번째 까지의 문자이기 때문."
      ],
      "execution_count": 0,
      "outputs": [
        {
          "output_type": "execute_result",
          "data": {
            "text/plain": [
              "'You need'"
            ]
          },
          "metadata": {
            "tags": []
          },
          "execution_count": 50
        }
      ]
    },
    {
      "cell_type": "markdown",
      "metadata": {
        "id": "HP2xHHIOtW9T",
        "colab_type": "text"
      },
      "source": [
        "### 문제3. 다음 list a의 인덱싱 결과는?"
      ]
    },
    {
      "cell_type": "code",
      "metadata": {
        "id": "qogMv3EottHL",
        "colab_type": "code",
        "outputId": "4d501c81-a7b2-4a30-dd69-735151bd028f",
        "colab": {
          "base_uri": "https://localhost:8080/",
          "height": 34
        }
      },
      "source": [
        "a=[1, 2, (3, 4), ['a', 'b', ['a', 'b', ['My', 'Life', 'Good']]]\n",
        "a[3][-1][0]\n",
        "# 답:'MY' \n",
        "# 왼쪽에서부터 순차적으로 봐야 함.([0]일 경우 왼쪽 기준으로 가장 앞의 문자를 뜻함.) \n",
        "# 그러므로 a[3]은 ['a', 'b', ['My', 'Life', 'Good']]를 뜻하고, \n",
        "# a[3][-1]은 ['My', 'Life', 'Good']를 ([-1]의 경우 뒤에서 첫번째) 뜻하므로 a[3][-1][0]은 'My'임.  "
      ],
      "execution_count": 0,
      "outputs": [
        {
          "output_type": "execute_result",
          "data": {
            "text/plain": [
              "'My'"
            ]
          },
          "metadata": {
            "tags": []
          },
          "execution_count": 4
        }
      ]
    },
    {
      "cell_type": "markdown",
      "metadata": {
        "id": "28S_kdbKuJ5I",
        "colab_type": "text"
      },
      "source": [
        "### 문제4. 다음 tuple t1의 슬라이싱 결과는?"
      ]
    },
    {
      "cell_type": "code",
      "metadata": {
        "id": "tHKLAQPZuSFo",
        "colab_type": "code",
        "outputId": "b885c8d1-4142-45cf-d544-8050e71e8595",
        "colab": {
          "base_uri": "https://localhost:8080/",
          "height": 34
        }
      },
      "source": [
        "t1 = (0, 1, \"s\", \"t\", \"u\")\n",
        "t1[2:-2]\n",
        "# 답:('s',)\n",
        "# tuple의 슬라이싱은 요소가 하나일 경우 콤마(,)를 포함해야함.\n",
        "# t1[2:-2]의 결과를 출력한다면 문제2의 방식과 같음.\n",
        "# 따라서 's,'가 됨. "
      ],
      "execution_count": 0,
      "outputs": [
        {
          "output_type": "execute_result",
          "data": {
            "text/plain": [
              "('s',)"
            ]
          },
          "metadata": {
            "tags": []
          },
          "execution_count": 5
        }
      ]
    },
    {
      "cell_type": "markdown",
      "metadata": {
        "id": "Hk03VCRcug4S",
        "colab_type": "text"
      },
      "source": [
        "### 문제5. 다음 bool 값 출력 중 정확한 것은?"
      ]
    },
    {
      "cell_type": "code",
      "metadata": {
        "id": "zRIYLNUKusDE",
        "colab_type": "code",
        "outputId": "d34015ba-37e7-4bbb-ac07-b3f69f4060eb",
        "colab": {
          "base_uri": "https://localhost:8080/",
          "height": 34
        }
      },
      "source": [
        "bool([0, 1, 2]), bool([0]), bool((0)), bool((0,))\n",
        "답:(True, True, False, True)\n",
        "# bool([0, 1, 2]), bool([0])의 경우 리스트에 요소가 있으므로 true임.\n",
        "# bool((0))의 경우 값이 0이므로 false임.\n",
        "# bool((0,))의 경우 뒤에 콤마(,)가 있으므로 요소로 인정함에 true임."
      ],
      "execution_count": 0,
      "outputs": [
        {
          "output_type": "execute_result",
          "data": {
            "text/plain": [
              "(True, True, False, True)"
            ]
          },
          "metadata": {
            "tags": []
          },
          "execution_count": 6
        }
      ]
    },
    {
      "cell_type": "markdown",
      "metadata": {
        "id": "lbaJXZQ-4pJk",
        "colab_type": "text"
      },
      "source": [
        "### **중간고사 2부 (6번~10번)**"
      ]
    },
    {
      "cell_type": "markdown",
      "metadata": {
        "id": "SwEuOqRbvbZK",
        "colab_type": "text"
      },
      "source": [
        "### 문제6. 다음 조건문을 1줄 코드로 변경하시오."
      ]
    },
    {
      "cell_type": "code",
      "metadata": {
        "id": "3_9zYyZABJ8S",
        "colab_type": "code",
        "outputId": "9628ebf5-11d1-4fdf-bf96-e8eeff84c9af",
        "colab": {
          "base_uri": "https://localhost:8080/",
          "height": 134
        }
      },
      "source": [
        "score = 80  \n",
        "if score > = 60:\n",
        "     message = \"succes\"\n",
        "else:\n",
        "     message = \"failure\""
      ],
      "execution_count": 0,
      "outputs": [
        {
          "output_type": "error",
          "ename": "SyntaxError",
          "evalue": "ignored",
          "traceback": [
            "\u001b[0;36m  File \u001b[0;32m\"<ipython-input-63-4f5862765bec>\"\u001b[0;36m, line \u001b[0;32m2\u001b[0m\n\u001b[0;31m    if score > = 60:\u001b[0m\n\u001b[0m               ^\u001b[0m\n\u001b[0;31mSyntaxError\u001b[0m\u001b[0;31m:\u001b[0m invalid syntax\n"
          ]
        }
      ]
    },
    {
      "cell_type": "code",
      "metadata": {
        "id": "-n7mWLvpBm5P",
        "colab_type": "code",
        "outputId": "5bdcf615-3077-4bcb-fd0c-5467bf762f6d",
        "colab": {
          "base_uri": "https://localhost:8080/",
          "height": 34
        }
      },
      "source": [
        "score =50\n",
        "message = \"succes\" if score>=60 else \"failure\"\n",
        "print(message)"
      ],
      "execution_count": 0,
      "outputs": [
        {
          "output_type": "stream",
          "text": [
            "failure\n"
          ],
          "name": "stdout"
        }
      ]
    },
    {
      "cell_type": "markdown",
      "metadata": {
        "id": "6-feedcTxpyy",
        "colab_type": "text"
      },
      "source": [
        "### 문제7. 다음 코드의 실행 결과는?"
      ]
    },
    {
      "cell_type": "code",
      "metadata": {
        "id": "JxZiZXmgyDC5",
        "colab_type": "code",
        "outputId": "d4dde5b3-ab20-4697-cc82-fd90926f5598",
        "colab": {
          "base_uri": "https://localhost:8080/",
          "height": 34
        }
      },
      "source": [
        "games = [\"A\", \"B\", \"C\"]\n",
        "\n",
        "for cnt in range (len(games)):\n",
        "  print(cnt, games[cnt], end=',')\n",
        "# 답:0 A,1 B,2 C,\n",
        "# len(games)이 의미하는 것은 games안 요소들에 순서 매김.\n",
        "# end=','는 출력값 뒤에 콤마(,) 달아주는 것임."
      ],
      "execution_count": 0,
      "outputs": [
        {
          "output_type": "stream",
          "text": [
            "0 A,1 B,2 C,"
          ],
          "name": "stdout"
        }
      ]
    },
    {
      "cell_type": "markdown",
      "metadata": {
        "id": "9pgMyrcGytPw",
        "colab_type": "text"
      },
      "source": [
        "### 문제8. 다음의 결과가 출력되지 않는 것은? 'I ate 10 apples, so i was sick for three days.'"
      ]
    },
    {
      "cell_type": "code",
      "metadata": {
        "id": "TzJ8YDXzD5x9",
        "colab_type": "code",
        "colab": {}
      },
      "source": [
        "# code start\n",
        "number = 10\n",
        "day = \"three\""
      ],
      "execution_count": 0,
      "outputs": []
    },
    {
      "cell_type": "markdown",
      "metadata": {
        "id": "o37PccPuN8Lm",
        "colab_type": "text"
      },
      "source": [
        "### 문제9. 리스트 내포를 사용해 1부터 1000이하의 자연수 중 5의 배수의 합을 구하는 한 줄 코드를 작성하시오. \n",
        "\n",
        "*5 + 10 + 15 + 20 + 25 + ... + 955 + 960 + 965 + 970 + 975 + ... + 995 + 1000 = ?\n",
        "\n",
        "\n"
      ]
    },
    {
      "cell_type": "code",
      "metadata": {
        "id": "oLB4TJYOOYcj",
        "colab_type": "code",
        "outputId": "9a8568cc-7e15-489b-d8fe-f1375f9b6cc1",
        "colab": {
          "base_uri": "https://localhost:8080/",
          "height": 34
        }
      },
      "source": [
        "sum([num for num in range(1,1001) if num % 5 == 0])\n",
        "# 답:100500\n",
        "# 1부터 1000까지의 5의 배수"
      ],
      "execution_count": 0,
      "outputs": [
        {
          "output_type": "execute_result",
          "data": {
            "text/plain": [
              "100500"
            ]
          },
          "metadata": {
            "tags": []
          },
          "execution_count": 72
        }
      ]
    },
    {
      "cell_type": "markdown",
      "metadata": {
        "id": "Ome-B53tOkMz",
        "colab_type": "text"
      },
      "source": [
        "### 문제10. 4개 과목의 평균 성적을 구하시오. [a], [b]에 적합한 코드는?\n",
        "       subjects = ['python', 'english', 'math', 'science']\n",
        "       scores = [88, 77, 66, 95]\n",
        "       total = 0\n",
        "\n",
        "      for subject, score in [a]_____(subjects, scores):\n",
        "           total += score\n",
        "           print(subject, score)\n",
        "\n",
        "     print(\"평균점수 = (0)\", format([b]_____) \n",
        "\n",
        "\n"
      ]
    },
    {
      "cell_type": "code",
      "metadata": {
        "id": "IdszI-MNPXy5",
        "colab_type": "code",
        "outputId": "23515034-4c04-4b9f-9788-d8a88ab49929",
        "colab": {
          "base_uri": "https://localhost:8080/",
          "height": 105
        }
      },
      "source": [
        "subjects = ['python', 'english', 'math', 'science']\n",
        "scores = [ 88, 77, 66, 95]\n",
        "total = 0\n",
        "for subject, score in zip(subjects,scores): \n",
        "  total += score \n",
        "  print(subject,score)\n",
        "\n",
        "print(\"평균 점수 = {0}\".format(total/len(subjects)))\n",
        "# 답:total/len(subjects) 사용해야함\n",
        "# 과목 수만큼 나눠주면 평균임."
      ],
      "execution_count": 0,
      "outputs": [
        {
          "output_type": "stream",
          "text": [
            "python 88\n",
            "english 77\n",
            "math 66\n",
            "science 95\n",
            "평균 점수 = 81.5\n"
          ],
          "name": "stdout"
        }
      ]
    }
  ]
}