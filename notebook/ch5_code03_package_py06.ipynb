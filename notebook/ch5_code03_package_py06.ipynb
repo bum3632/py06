{
  "nbformat": 4,
  "nbformat_minor": 0,
  "metadata": {
    "colab": {
      "name": "ch5_code03_package_py06.ipynb",
      "provenance": [],
      "collapsed_sections": [],
      "include_colab_link": true
    },
    "kernelspec": {
      "name": "python3",
      "display_name": "Python 3"
    }
  },
  "cells": [
    {
      "cell_type": "markdown",
      "metadata": {
        "id": "view-in-github",
        "colab_type": "text"
      },
      "source": [
        "<a href=\"https://colab.research.google.com/github/bum3632/py06/blob/master/notebook/ch5_code03_package_py06.ipynb\" target=\"_parent\"><img src=\"https://colab.research.google.com/assets/colab-badge.svg\" alt=\"Open In Colab\"/></a>"
      ]
    },
    {
      "cell_type": "markdown",
      "metadata": {
        "id": "8tRbFmvV5SSc",
        "colab_type": "text"
      },
      "source": [
        "## 패키지\n",
        "```\n",
        "./game/__init__.py\n",
        "./game/sound/__init__.py\n",
        "./game/sound/echo.py\n",
        "./game/graphic/__init__.py\n",
        "./game/graphic/render.py\n",
        "```"
      ]
    },
    {
      "cell_type": "markdown",
      "metadata": {
        "id": "APZV3iOx3NX3",
        "colab_type": "text"
      },
      "source": [
        "## 패키지 테스트\n",
        "```\n",
        "# echo.py\n",
        "def echo_test():\n",
        "    print(\"echo\")\n",
        "```\n",
        "\n",
        "```\n",
        "# render.py\n",
        "from ..sound.echo import echo_test\n",
        "def render_test():\n",
        "    print (\"render\")\n",
        "    echo_test()\n",
        "```\n",
        "\n",
        "```\n",
        "from game.graphic.render import render_test\n",
        "render_test()\n",
        "```"
      ]
    },
    {
      "cell_type": "code",
      "metadata": {
        "id": "1sdg6ocS3Dmc",
        "colab_type": "code",
        "colab": {
          "base_uri": "https://localhost:8080/",
          "height": 34
        },
        "outputId": "b178e439-158e-44d8-e643-73b8f0e0e4e9"
      },
      "source": [
        "from game.sound.echo import echo_test\n",
        "echo_test()"
      ],
      "execution_count": 3,
      "outputs": [
        {
          "output_type": "stream",
          "text": [
            "echo\n"
          ],
          "name": "stdout"
        }
      ]
    },
    {
      "cell_type": "code",
      "metadata": {
        "id": "6WlUdSPwGMla",
        "colab_type": "code",
        "colab": {
          "base_uri": "https://localhost:8080/",
          "height": 34
        },
        "outputId": "6fddcda8-6b0a-4f30-dea3-bf838361d019"
      },
      "source": [
        "from game.graphic.render import render_test\n",
        "\n",
        "render_test()"
      ],
      "execution_count": 19,
      "outputs": [
        {
          "output_type": "stream",
          "text": [
            "render\n"
          ],
          "name": "stdout"
        }
      ]
    },
    {
      "cell_type": "code",
      "metadata": {
        "id": "oup6ndTX5KAd",
        "colab_type": "code",
        "colab": {
          "base_uri": "https://localhost:8080/",
          "height": 52
        },
        "outputId": "46fc9777-9780-408d-a418-a85dac31c434"
      },
      "source": [
        "from game.graphic.render import render_test\n",
        " \n",
        "render_test()"
      ],
      "execution_count": 2,
      "outputs": [
        {
          "output_type": "stream",
          "text": [
            "render\n",
            "echo\n"
          ],
          "name": "stdout"
        }
      ]
    },
    {
      "cell_type": "code",
      "metadata": {
        "id": "NbMtql0c5N7h",
        "colab_type": "code",
        "colab": {
          "base_uri": "https://localhost:8080/",
          "height": 52
        },
        "outputId": "5548d8d5-a582-4d21-b0b6-696ab3c69c4f"
      },
      "source": [
        "from game.graphic.render import render_test\n",
        " \n",
        "render_test()"
      ],
      "execution_count": 5,
      "outputs": [
        {
          "output_type": "stream",
          "text": [
            "render\n",
            "echo\n"
          ],
          "name": "stdout"
        }
      ]
    }
  ]
}